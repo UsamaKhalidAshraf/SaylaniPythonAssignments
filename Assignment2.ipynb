{
 "cells": [
  {
   "cell_type": "code",
   "execution_count": 1,
   "metadata": {},
   "outputs": [
    {
     "name": "stdout",
     "output_type": "stream",
     "text": [
      "Enter First Subjest Marks: 50\n",
      "Enter Second Subjest Marks: 50\n",
      "Enter Third Subjest Marks: 50\n",
      "Enter Fourth Subjest Marks: 50\n",
      "Enter Fifth Subjest Marks: 50\n",
      "50\n",
      "Grade: F\n"
     ]
    }
   ],
   "source": [
    "sub1 = int(input(\"Enter First Subjest Marks: \"))\n",
    "sub2 = int(input(\"Enter Second Subjest Marks: \"))\n",
    "sub3 = int(input(\"Enter Third Subjest Marks: \"))\n",
    "sub4 = int(input(\"Enter Fourth Subjest Marks: \"))\n",
    "sub5 = int(input(\"Enter Fifth Subjest Marks: \"))\n",
    "sum = sub1+sub2+sub3+sub4+sub5\n",
    "avg = (sum//5)\n",
    "print(avg)\n",
    "if(avg>=90):\n",
    "    print(\"Grade: A\")\n",
    "elif(avg>=80):\n",
    "    print(\"Grade: B\")\n",
    "elif(avg>=70):\n",
    "    print(\"Grade: C\")\n",
    "elif(avg>=60):\n",
    "    print(\"Grade: D\")\n",
    "else:\n",
    "    print(\"Grade: F\")"
   ]
  },
  {
   "cell_type": "code",
   "execution_count": 2,
   "metadata": {},
   "outputs": [
    {
     "name": "stdout",
     "output_type": "stream",
     "text": [
      "Enter a number: 5\n",
      "this number is odd\n"
     ]
    }
   ],
   "source": [
    "num = int(input(\"Enter a number: \"))\n",
    "if (num % 2) == 0:\n",
    "   print(\"This number is even\")\n",
    "else:\n",
    "   print(\"this number is odd\")"
   ]
  },
  {
   "cell_type": "code",
   "execution_count": 3,
   "metadata": {},
   "outputs": [
    {
     "name": "stdout",
     "output_type": "stream",
     "text": [
      "Length of this List =  4\n"
     ]
    }
   ],
   "source": [
    "list=('Usama', 'Khalid', 23, 'Karachi')\n",
    "print (\"Length of this List = \", len(list))"
   ]
  },
  {
   "cell_type": "code",
   "execution_count": 4,
   "metadata": {},
   "outputs": [
    {
     "name": "stdout",
     "output_type": "stream",
     "text": [
      "The Sum of List= 55\n"
     ]
    }
   ],
   "source": [
    "List = (1,2,3,4,5,6,7,8,9,10)\n",
    "sum=0\n",
    "\n",
    "for i in List:\n",
    "    sum=sum+i\n",
    "\n",
    "print(\"The Sum of List=\",sum)"
   ]
  },
  {
   "cell_type": "code",
   "execution_count": 5,
   "metadata": {},
   "outputs": [
    {
     "name": "stdout",
     "output_type": "stream",
     "text": [
      "How many numbers: 3\n",
      "Enter number 2\n",
      "Enter number 4\n",
      "Enter number 3\n",
      "Minimum element in the list is : 2\n"
     ]
    }
   ],
   "source": [
    "list = []\n",
    "num = int(input('How many numbers: '))\n",
    "for n in range(num):\n",
    "    numbers = int(input('Enter number '))\n",
    "    list.append(numbers)\n",
    "print(\"Minimum element in the list is :\", min(list))"
   ]
  },
  {
   "cell_type": "code",
   "execution_count": null,
   "metadata": {},
   "outputs": [],
   "source": [
    "a = [1, 1, 2, 3, 5, 8, 13, 21, 34, 55, 89]\n",
    "\n",
    "new_list = []\n",
    "\n",
    "for item in a:\n",
    "  \n",
    "\tif item < 5:\n",
    "    \n",
    "new_list.append(item)\n",
    "print(new_list)\n"
   ]
  }
 ],
 "metadata": {
  "kernelspec": {
   "display_name": "Python 3",
   "language": "python",
   "name": "python3"
  },
  "language_info": {
   "codemirror_mode": {
    "name": "ipython",
    "version": 3
   },
   "file_extension": ".py",
   "mimetype": "text/x-python",
   "name": "python",
   "nbconvert_exporter": "python",
   "pygments_lexer": "ipython3",
   "version": "3.6.8"
  }
 },
 "nbformat": 4,
 "nbformat_minor": 2
}
