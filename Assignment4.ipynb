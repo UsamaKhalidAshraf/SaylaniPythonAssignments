{
 "cells": [
  {
   "cell_type": "code",
   "execution_count": 5,
   "metadata": {},
   "outputs": [
    {
     "name": "stdout",
     "output_type": "stream",
     "text": [
      "{'Name': 'Usama', 'Last_Name': 'Khalid', 'Age': 23, 'City': 'Karachi'}\n",
      "---Updating---\n",
      "{'Name': 'Usama', 'Last_Name': 'Khalid', 'Age': 23, 'City': 'Karachi', 'Qualification': 'Software Engineering'}\n",
      "---Deleting---\n",
      "{'Name': 'Usama', 'Last_Name': 'Khalid', 'Age': 23, 'City': 'Karachi'}\n"
     ]
    }
   ],
   "source": [
    "#Q1\n",
    "\n",
    "Person = {\n",
    "    \"Name\": \"Usama\",\n",
    "    \"Last_Name\": \"Khalid\",\n",
    "    \"Age\": 23,\n",
    "    \"City\": \"Karachi\"\n",
    "}\n",
    "print(Person)\n",
    "#Updating\n",
    "print(\"---Updating---\")\n",
    "Person [\"Qualification\"] = \"Software Engineering\"\n",
    "print(Person)\n",
    "\n",
    "#Deleting\n",
    "print(\"---Deleting---\")\n",
    "del Person[\"Qualification\"]\n",
    "print(Person)"
   ]
  },
  {
   "cell_type": "code",
   "execution_count": 6,
   "metadata": {},
   "outputs": [
    {
     "name": "stdout",
     "output_type": "stream",
     "text": [
      "Cairo\n",
      "{'Country': 'Egypt', 'Population': '9.5 million', 'Fact': 'the City of a Thousand Minarets'}\n",
      "Paris\n",
      "{'Country': 'France', 'Population': '2.141 million', 'Fact': 'The City of Love'}\n",
      "Karachi\n",
      "{'Country': 'Pakistan', 'Population': '14.91 million', 'Fact': 'City of Lights'}\n"
     ]
    }
   ],
   "source": [
    "#Q2\n",
    "\n",
    "Cities = {\n",
    "        \"Cairo\":{\n",
    "            \"Country\": \"Egypt\",\n",
    "            \"Population\": \"9.5 million\",\n",
    "            \"Fact\": \"the City of a Thousand Minarets\"\n",
    "        },\n",
    "        \"Paris\":{\n",
    "            \"Country\": \"France\",\n",
    "            \"Population\":\"2.141 million\",\n",
    "            \"Fact\":\"The City of Love\"\n",
    "        },\n",
    "        \"Karachi\":{\n",
    "        \"Country\":\"Pakistan\",\n",
    "        \"Population\":\"14.91 million\",\n",
    "        \"Fact\":\"City of Lights\"\n",
    "        },\n",
    "    }\n",
    "for i in Cities:\n",
    "    print(i)\n",
    "    print(Cities[i])"
   ]
  },
  {
   "cell_type": "code",
   "execution_count": 7,
   "metadata": {},
   "outputs": [
    {
     "name": "stdout",
     "output_type": "stream",
     "text": [
      "\t*** Welcome to The Movie Theater ***\n",
      "\t Total Number Of Family Members\n",
      "6\n",
      "Enter Age: 2\n",
      "Under the age of 3, the ticket is free...\n",
      "Enter Age: 3\n",
      "Under the age of 3, the ticket is free...\n",
      "Enter Age: 10\n",
      "Ticket Charges = 10$\n",
      "Enter Age: 12\n",
      "Ticket Charges = 10$\n",
      "Enter Age: 50\n",
      "Ticket Charges = 15$\n",
      "Enter Age: 100\n",
      "Ticket Charges = 15$\n"
     ]
    }
   ],
   "source": [
    "#Q3\n",
    "\n",
    "print(\"\\t*** Welcome to The Movie Theater ***\")\n",
    "user_input = int(input(\"\\t Total Number Of Family Members\\n\"))\n",
    "for i in range (0,user_input):\n",
    "    user_age = int(input(\"Enter Age: \"))\n",
    "    if user_age <= 3:\n",
    "        print(\"Under the age of 3, the ticket is free...\")\n",
    "    elif user_age <= 12:\n",
    "            print(\"Ticket Charges = 10$\")\n",
    "    elif user_age >12:\n",
    "            print(\"Ticket Charges = 15$\")"
   ]
  },
  {
   "cell_type": "code",
   "execution_count": 8,
   "metadata": {},
   "outputs": [
    {
     "name": "stdout",
     "output_type": "stream",
     "text": [
      "One Of My Favorite Book Alice In WonderLand\n"
     ]
    }
   ],
   "source": [
    "#Q4\n",
    "\n",
    "def favorite_book(title):\n",
    "    print(\"One Of My Favorite Book \"+ title)\n",
    "\n",
    "favorite_book(\"Alice In WonderLand\")"
   ]
  },
  {
   "cell_type": "code",
   "execution_count": 2,
   "metadata": {},
   "outputs": [
    {
     "name": "stdout",
     "output_type": "stream",
     "text": [
      "***Guessing NumberGame***\n",
      "Chance: 1\n",
      "Guess Any Number4\n",
      "You are Near the Actual Number...Your Number is less then Actual Number\n",
      "Chance: 2\n",
      "Guess Any Number5\n",
      "You are Near the Actual Number...Your Number is less then Actual Number\n",
      "Chance: 3\n",
      "Guess Any Number6\n",
      "You are Near the Actual Number...Your Number is less then Actual Number\n",
      "the actual number is=13\n",
      "Try Again...\n",
      "***End***\n"
     ]
    }
   ],
   "source": [
    "#Q5\n",
    "import random\n",
    "random_number=random.randint(0,30)\n",
    "print(\"***Guessing NumberGame***\")\n",
    "\n",
    "for i in range(0,3):\n",
    "    print(\"Chance: \"+ str(i+1))\n",
    "    user_number=int(input(\"Guess Any Number\"))\n",
    "    if user_number <random_number:\n",
    "        print(\"You are Near the Actual Number...Your Number is less then Actual Number\")\n",
    "    elif user_number > random_number:\n",
    "        print(\"You are Near the Actual Number...Your Number is Bigger then Actual Number\")\n",
    "    elif user_number==random_number:\n",
    "        print(\"***Congratulations***\")\n",
    "        print(\"***END***\")\n",
    "        break\n",
    "\n",
    "if user_number!=random_number:\n",
    "    print(\"the actual number is=\"+str(random_number))\n",
    "    print(\"Try Again...\")        \n",
    "    print(\"***End***\")"
   ]
  },
  {
   "cell_type": "code",
   "execution_count": null,
   "metadata": {},
   "outputs": [],
   "source": []
  }
 ],
 "metadata": {
  "kernelspec": {
   "display_name": "Python 3",
   "language": "python",
   "name": "python3"
  },
  "language_info": {
   "codemirror_mode": {
    "name": "ipython",
    "version": 3
   },
   "file_extension": ".py",
   "mimetype": "text/x-python",
   "name": "python",
   "nbconvert_exporter": "python",
   "pygments_lexer": "ipython3",
   "version": "3.6.9"
  }
 },
 "nbformat": 4,
 "nbformat_minor": 2
}
