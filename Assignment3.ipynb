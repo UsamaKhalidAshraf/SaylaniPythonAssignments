{
 "cells": [
  {
   "cell_type": "code",
   "execution_count": 2,
   "metadata": {},
   "outputs": [
    {
     "name": "stdout",
     "output_type": "stream",
     "text": [
      "Select any Operation:\n",
      "1. Addition\n",
      "2. Subtraction\n",
      "3. Multiplication\n",
      "4. Division\n",
      "5. Power\n",
      "Select Operation (1, 2, 3, 4, 5): 5\n",
      "Enter first number: 2\n",
      "Enter second number: 3\n",
      "2 ^ 3 = 8\n"
     ]
    }
   ],
   "source": [
    "    \"\"\"Question No 1\"\"\"\n",
    "\n",
    "print(\"Select any Operation:\")\n",
    "print(\"1. Addition\")\n",
    "print(\"2. Subtraction\")\n",
    "print(\"3. Multiplication\")\n",
    "print(\"4. Division\")\n",
    "print(\"5. Power\")\n",
    "\n",
    "Select = input(\"Select Operation (1, 2, 3, 4, 5): \")\n",
    "a = int(input(\"Enter first number: \"))\n",
    "b = int(input(\"Enter second number: \"))\n",
    "\n",
    "def add(x, y):\n",
    "   return x + y\n",
    "\n",
    "def subtract(x, y):\n",
    "   return x - y\n",
    "\n",
    "def multiply(x, y):\n",
    "   return x * y\n",
    "\n",
    "def divide(x, y):\n",
    "   return x / y\n",
    "\n",
    "def power(x,y):\n",
    "    \n",
    "    return x**y\n",
    "    \n",
    "\n",
    "if Select == '1':\n",
    "   print(a,\"+\",b,\"=\", add(a,b))\n",
    "elif Select == '2':\n",
    "   print(a,\"-\",b,\"=\", subtract(a,b))\n",
    "elif Select == '3':\n",
    "   print(a,\"*\",b,\"=\", multiply(a,b))\n",
    "elif Select == '4':\n",
    "   print(a,\"/\",b,\"=\", divide(a,b))\n",
    "elif Select == '5':\n",
    "    print(a,\"^\",b,\"=\", power(a,b))\n",
    "else:\n",
    "   print(\"Invalid input\")"
   ]
  },
  {
   "cell_type": "code",
   "execution_count": 3,
   "metadata": {},
   "outputs": [
    {
     "name": "stdout",
     "output_type": "stream",
     "text": [
      "Numeric value existed at this index: 2\n"
     ]
    }
   ],
   "source": [
    "    \"\"\"Question No 2\"\"\"\n",
    "\n",
    "list = [\"usama\",\"khalid\",23,\"karachi\",]\n",
    "for i in list:\n",
    "    if type (i)== int:\n",
    "        index = list.index(i)\n",
    "        print('Numeric value existed at this index:', index)"
   ]
  },
  {
   "cell_type": "code",
   "execution_count": 4,
   "metadata": {},
   "outputs": [
    {
     "name": "stdout",
     "output_type": "stream",
     "text": [
      "Assign Array Length:5\n",
      "Assign Values:u\n",
      "Assign Values:s\n",
      "Assign Values:a\n",
      "Assign Values:m\n",
      "Assign Values:a\n",
      "{0: 'u', 1: 's', 2: 'a', 3: 'm', 4: 'a'}\n"
     ]
    }
   ],
   "source": [
    "    \"\"\"Question No 3\"\"\"\n",
    "\n",
    "array={}\n",
    "num=int(input(\"Assign Array Length:\"))\n",
    "for index in range(num):\n",
    "    inputs=input(\"Assign Values:\")\n",
    "    array[index]=inputs\n",
    "\n",
    "print(array)"
   ]
  },
  {
   "cell_type": "code",
   "execution_count": 5,
   "metadata": {},
   "outputs": [
    {
     "name": "stdout",
     "output_type": "stream",
     "text": [
      "Sum Of Elements = 45\n"
     ]
    }
   ],
   "source": [
    "    \"\"\"Question No 4\"\"\"\n",
    "\n",
    "list={1:1,2:2,3:3,4:4,5:5,6:6,7:7,8:8,9:9}\n",
    "sum=0\n",
    "for i in list:\n",
    "    sum+=list[i]\n",
    "print(\"Sum Of Elements = \"+str(sum))"
   ]
  },
  {
   "cell_type": "code",
   "execution_count": 1,
   "metadata": {},
   "outputs": [
    {
     "name": "stdout",
     "output_type": "stream",
     "text": [
      "This Element is duplicated: Khalid\n"
     ]
    }
   ],
   "source": [
    "    \"\"\"Question No 5\"\"\"\n",
    "\n",
    "list = [\"Usama\",\"Khalid\",\"Khalid\",\"Ashraf\"]\n",
    "list.sort()\n",
    "for i in range(len (list) -1):\n",
    "     if list[i] == list[i+1]:\n",
    "        print (\"This Element is duplicated:\",list[i])"
   ]
  },
  {
   "cell_type": "code",
   "execution_count": 2,
   "metadata": {},
   "outputs": [
    {
     "name": "stdout",
     "output_type": "stream",
     "text": [
      "Enter Key To Check: 6\n",
      "6 Not Present\n"
     ]
    }
   ],
   "source": [
    "    \"\"\"Question No 6\"\"\"\n",
    "\n",
    "Dic = {1: \"Usama\", 2: \"Khalid\", 3: 23, 4: \"AIoT\", 5: \"Saylani Python\"}\n",
    "\n",
    "k = int(input(\"Enter Key To Check: \"))\n",
    "\n",
    "if (k in Dic):\n",
    "    print(\"{0} Present\".format(k))\n",
    "else:\n",
    "    print(\"{0} Not Present\".format(k))"
   ]
  }
 ],
 "metadata": {
  "kernelspec": {
   "display_name": "Python 3",
   "language": "python",
   "name": "python3"
  },
  "language_info": {
   "codemirror_mode": {
    "name": "ipython",
    "version": 3
   },
   "file_extension": ".py",
   "mimetype": "text/x-python",
   "name": "python",
   "nbconvert_exporter": "python",
   "pygments_lexer": "ipython3",
   "version": "3.6.8"
  }
 },
 "nbformat": 4,
 "nbformat_minor": 2
}
