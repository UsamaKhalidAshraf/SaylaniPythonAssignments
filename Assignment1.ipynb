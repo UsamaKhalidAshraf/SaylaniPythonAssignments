{
 "cells": [
  {
   "cell_type": "code",
   "execution_count": 3,
   "metadata": {},
   "outputs": [
    {
     "name": "stdout",
     "output_type": "stream",
     "text": [
      "Twinkle, twinkle, little star,\n",
      "\tHow I wonder what you are!\n",
      "\t \tUp above the world so high,\n",
      "\t \tLike a diamond in the sky.\n",
      "Twinkle, twinkle, little star,\n",
      "\tHow I wonder what you are!\n"
     ]
    }
   ],
   "source": [
    "    \"\"\"Question No 1\"\"\"\n",
    "\n",
    "print(\"Twinkle, twinkle, little star,\")\n",
    "print(\"\\tHow I wonder what you are!\")\n",
    "print(\"\\t \\tUp above the world so high,\")\n",
    "print(\"\\t \\tLike a diamond in the sky.\")\n",
    "print(\"Twinkle, twinkle, little star,\")\n",
    "print(\"\\tHow I wonder what you are!\")"
   ]
  },
  {
   "cell_type": "code",
   "execution_count": 4,
   "metadata": {},
   "outputs": [
    {
     "name": "stdout",
     "output_type": "stream",
     "text": [
      "3.6.8 (default, Oct  7 2019, 12:59:55) \n",
      "[GCC 8.3.0]\n"
     ]
    }
   ],
   "source": [
    "    \"\"\"Question No 2\"\"\"\n",
    "\n",
    "import platform\n",
    "print(platform.sys.version)"
   ]
  },
  {
   "cell_type": "code",
   "execution_count": 6,
   "metadata": {},
   "outputs": [
    {
     "name": "stdout",
     "output_type": "stream",
     "text": [
      "Date 22-11-2019 Time is 23:15:40\n"
     ]
    }
   ],
   "source": [
    "    \"\"\"Question No 3\"\"\"\n",
    "\n",
    "import datetime\n",
    "Current = datetime.datetime.now()\n",
    "print (Current.strftime(\"Date \" \"%d-%m-%Y \" \"Time is\" \" %H:%M:%S\"))"
   ]
  },
  {
   "cell_type": "code",
   "execution_count": 8,
   "metadata": {},
   "outputs": [
    {
     "name": "stdout",
     "output_type": "stream",
     "text": [
      "Enter Radius Value:5\n",
      "Area Of Circle:  78.57142857142857\n"
     ]
    }
   ],
   "source": [
    "    \"\"\"Question No 4\"\"\"\n",
    "\n",
    "radius = float(input(\"Enter Radius Value:\"))\n",
    "area = (22/7)*radius**2\n",
    "print(\"Area Of Circle: \", area)"
   ]
  },
  {
   "cell_type": "code",
   "execution_count": 10,
   "metadata": {},
   "outputs": [
    {
     "name": "stdout",
     "output_type": "stream",
     "text": [
      "Enter First Name:Usama\n",
      "enter Last Name:Khalid\n",
      "Khalid Usama\n"
     ]
    }
   ],
   "source": [
    "    \"\"\"Question No 5\"\"\"\n",
    "\n",
    "FirstName=input(\"Enter First Name:\")\n",
    "LastName=input(\"enter Last Name:\")\n",
    "print(LastName+\" \"+FirstName)"
   ]
  },
  {
   "cell_type": "code",
   "execution_count": 12,
   "metadata": {},
   "outputs": [
    {
     "name": "stdout",
     "output_type": "stream",
     "text": [
      "Enter First Number: 5\n",
      "Enter Second Number: 4\n",
      "Answer: 9\n"
     ]
    }
   ],
   "source": [
    "    \"\"\"Question No 6\"\"\"\n",
    "\n",
    "num1 = input(\"Enter First Number: \")\n",
    "num2 = input(\"Enter Second Number: \")\n",
    "num3 = int(num1) + int(num2)\n",
    "print(\"Answer:\", num3)"
   ]
  }
 ],
 "metadata": {
  "kernelspec": {
   "display_name": "Python 3",
   "language": "python",
   "name": "python3"
  },
  "language_info": {
   "codemirror_mode": {
    "name": "ipython",
    "version": 3
   },
   "file_extension": ".py",
   "mimetype": "text/x-python",
   "name": "python",
   "nbconvert_exporter": "python",
   "pygments_lexer": "ipython3",
   "version": "3.6.8"
  }
 },
 "nbformat": 4,
 "nbformat_minor": 2
}
