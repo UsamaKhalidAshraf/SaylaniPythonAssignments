{
 "cells": [
  {
   "cell_type": "code",
   "execution_count": 1,
   "metadata": {},
   "outputs": [
    {
     "name": "stdout",
     "output_type": "stream",
     "text": [
      "Enter a Number: 5\n",
      "Factorial of 5 is:  120\n"
     ]
    }
   ],
   "source": [
    "#Q1\n",
    "\n",
    "def factorial(num):\n",
    "    if num == 1:\n",
    "        return num\n",
    "    else:\n",
    "        return num * factorial(num - 1)\n",
    "\n",
    "\n",
    "\n",
    "num = int(input(\"Enter a Number: \"))\n",
    "\n",
    "if num < 0:\n",
    "    print(\"Factorial cannot be found for negative numbers\")\n",
    "elif num == 0:\n",
    "    print(\"Factorial of 0 is 1\")\n",
    "else:\n",
    "    print(\"Factorial of\", num, \"is: \", factorial(num))"
   ]
  },
  {
   "cell_type": "code",
   "execution_count": 2,
   "metadata": {},
   "outputs": [
    {
     "name": "stdout",
     "output_type": "stream",
     "text": [
      "Please enter here: Usama\n",
      "Lower case is :  4\n",
      "Upper case is :  1\n"
     ]
    }
   ],
   "source": [
    "#Q2\n",
    "\n",
    "s = input(\"Please enter here: \")\n",
    "def stringtest(s):\n",
    "  d = {\"LOWER_CASE\" : 0, \"UPPER_CASE\" : 0}\n",
    "  for c in s:\n",
    "    if c.islower():\n",
    "      d[\"LOWER_CASE\"] += 1\n",
    "    elif c.isupper():\n",
    "      d[\"UPPER_CASE\"] += 1\n",
    "    else: \n",
    "      pass\n",
    "\n",
    "  print (\"Lower case is : \", d[\"LOWER_CASE\"])\n",
    "  print (\"Upper case is : \", d[\"UPPER_CASE\"])\n",
    "\n",
    "stringtest(s)"
   ]
  },
  {
   "cell_type": "code",
   "execution_count": 3,
   "metadata": {},
   "outputs": [
    {
     "name": "stdout",
     "output_type": "stream",
     "text": [
      "[2, 4, 6, 8]\n"
     ]
    }
   ],
   "source": [
    "#Q3\n",
    "\n",
    "list=[1,2,3,4,5,6,7,8,9]\n",
    "even = []\n",
    "\n",
    "for i in list:\n",
    "    if i % 2 == 0:\n",
    "        even.append(i)\n",
    "        \n",
    "print(even)"
   ]
  },
  {
   "cell_type": "code",
   "execution_count": 4,
   "metadata": {},
   "outputs": [
    {
     "name": "stdout",
     "output_type": "stream",
     "text": [
      "Enter any Word: madam\n",
      "This word is palindrome\n"
     ]
    }
   ],
   "source": [
    "#Q4\n",
    "\n",
    "def IsInPalindrome(word):\n",
    "    after = \"\"\n",
    "    for letter in word:\n",
    "        after = letter + after\n",
    "    if (word==after): \n",
    "        print(\"This word is palindrome\")\n",
    "    else:\n",
    "        print(\"This word is not palindrome\")\n",
    "\n",
    "str_input = input(\"Enter any Word: \")\n",
    "IsInPalindrome(str_input)"
   ]
  },
  {
   "cell_type": "code",
   "execution_count": 6,
   "metadata": {},
   "outputs": [
    {
     "name": "stdout",
     "output_type": "stream",
     "text": [
      "Enter Any Number: 3\n",
      "3 It's a prime number\n"
     ]
    }
   ],
   "source": [
    "#Q5\n",
    "\n",
    "def prime(n):\n",
    "    if num == 2:\n",
    "        print(num,\" It's a Prime no\")\n",
    "    elif num > 2:\n",
    "        for i in range(2,num):\n",
    "            if (num % i) == 0:\n",
    "                print(num,\"It's not a prime number\")\n",
    "                break\n",
    "            else:\n",
    "                print(num,\"It's a prime number\")\n",
    "    else:\n",
    "        print(num,\"It's not a prime number\")\n",
    "    \n",
    "num = int(input(\"Enter Any Number: \"))\n",
    "prime(num)"
   ]
  },
  {
   "cell_type": "code",
   "execution_count": 7,
   "metadata": {},
   "outputs": [
    {
     "name": "stdout",
     "output_type": "stream",
     "text": [
      "Enter shopping items:Spoons, Chairs, Salt, Pepper, Book\n",
      "Elements in shopping list are  Spoons, Chairs, Salt, Pepper, Book\n"
     ]
    }
   ],
   "source": [
    "#Q6\n",
    "\n",
    "def listfunction(*items):\n",
    "    for i in items:\n",
    "        print(\"Elements in shopping list are \", i)\n",
    "\n",
    "list = input(\"Enter shopping items:\")\n",
    "listfunction(list)"
   ]
  },
  {
   "cell_type": "code",
   "execution_count": null,
   "metadata": {},
   "outputs": [],
   "source": []
  }
 ],
 "metadata": {
  "kernelspec": {
   "display_name": "Python 3",
   "language": "python",
   "name": "python3"
  },
  "language_info": {
   "codemirror_mode": {
    "name": "ipython",
    "version": 3
   },
   "file_extension": ".py",
   "mimetype": "text/x-python",
   "name": "python",
   "nbconvert_exporter": "python",
   "pygments_lexer": "ipython3",
   "version": "3.6.9"
  }
 },
 "nbformat": 4,
 "nbformat_minor": 2
}
